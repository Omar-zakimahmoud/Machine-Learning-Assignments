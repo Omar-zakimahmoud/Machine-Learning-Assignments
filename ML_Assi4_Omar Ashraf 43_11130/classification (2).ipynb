{
  "cells": [
    {
      "cell_type": "code",
      "execution_count": null,
      "id": "f1f665de",
      "metadata": {
        "id": "f1f665de"
      },
      "outputs": [],
      "source": [
        "import numpy as np\n",
        "import pandas as pd\n",
        "import matplotlib.pyplot as plt\n",
        "from sklearn.preprocessing import PolynomialFeatures\n",
        "from sklearn.model_selection import train_test_split\n",
        "from sklearn.datasets import load_boston\n",
        "from sklearn.metrics import mean_squared_error\n",
        "from sklearn.linear_model import LogisticRegression\n",
        "import numpy as np\n",
        "import pandas as pd\n",
        "import matplotlib.pyplot as plt\n",
        "from sklearn.preprocessing import PolynomialFeatures\n",
        "from sklearn.model_selection import train_test_split\n",
        "from sklearn.datasets import load_boston\n",
        "from sklearn.metrics import mean_squared_error\n",
        "from sklearn.linear_model import LogisticRegression\n",
        "from sklearn.preprocessing import OrdinalEncoder\n",
        "from sklearn.linear_model import LogisticRegressionCV \n",
        "from sklearn.model_selection import StratifiedKFold\n",
        "from statistics import mean, stdev\n"
      ]
    },
    {
      "cell_type": "code",
      "execution_count": null,
      "id": "a0803d61",
      "metadata": {
        "id": "a0803d61"
      },
      "outputs": [],
      "source": [
        "df = pd.read_csv (r'D:\\archive\\PS_20174392719_1491204439457_log.csv')\n",
        "df.head()\n",
        "dataofex=df.drop('isFraud',axis=1)\n",
        "dataofex.drop('nameOrig',axis=1,inplace=True)\n",
        "dataofex.drop('nameDest',axis=1,inplace=True)\n",
        "dataofy=df['isFraud']\n",
        "enocding_func = OrdinalEncoder()\n",
        "dataofex[\"type\"] = enocding_func.fit_transform(dataofex[[\"type\"]])\n",
        "rmse_array=[]\n",
        "for i in range(1,3,1):\n",
        "  poly = PolynomialFeatures(degree= i, include_bias=False)\n",
        "  poly_atts = poly.fit_transform(dataofex)\n",
        "  X_train, X_test, y_train, y_test = train_test_split(poly_atts, dataofy, test_size=0.4, random_state=1)\n",
        "  X_val, X_test, y_val, y_test = train_test_split(X_test, y_test, test_size=0.5, random_state=1)\n",
        "  polynomailmodel = LogisticRegression()\n",
        "  polynomailmodel.fit(X_train, y_train)\n",
        "  polynomialpredcitedy = polynomailmodel.predict(X_val)\n",
        "  ploynomailrmse = np.sqrt(mean_squared_error(y_val, polynomialpredcitedy))\n",
        "  rmse_array.append(ploynomailrmse)"
      ]
    },
    {
      "cell_type": "code",
      "execution_count": null,
      "id": "2ae7a3dd",
      "metadata": {
        "id": "2ae7a3dd"
      },
      "outputs": [],
      "source": [
        "poly = PolynomialFeatures(degree= 2, include_bias=False)\n",
        "poly_atts = poly.fit_transform(dataofex)\n",
        "X_train, X_test, y_train, y_test = train_test_split(poly_atts, dataofy, test_size=0.4, random_state=1)\n",
        "X_val, X_test, y_val, y_test = train_test_split(X_test, y_test, test_size=0.5, random_state=1)\n",
        "polynomailmodel = LogisticRegression()\n",
        "polynomailmodel.fit(X_train, y_train)\n",
        "polynomialpredcitedy = polynomailmodel.predict(X_test)\n",
        "ploynomailrmse = np.sqrt(mean_squared_error(y_test, polynomialpredcitedy))\n",
        "print(ploynomailrmse)"
      ]
    },
    {
      "cell_type": "code",
      "execution_count": null,
      "id": "62429a54",
      "metadata": {
        "id": "62429a54"
      },
      "outputs": [],
      "source": [
        "skf = StratifiedKFold(n_splits=4, shuffle=True, random_state=1)\n",
        "skf_Accur = []\n",
        "for train_index, test_index in skf.split(poly_atts, dataofy):\n",
        "    x_train_fold, x_test_fold = poly_atts[train_index], poly_atts[test_index]\n",
        "    y_train_fold, y_test_fold = dataofy[train_index], dataofy[test_index]\n",
        "    polynomailmodel = LogisticRegression()\n",
        "    polynomailmodel.fit(x_train_fold, y_train_fold)\n",
        "    skf_Accur.append(polynomailmodel.score(x_test_fold, y_test_fold)) \n",
        "print('Maximum Accuracy:', max(skf_Accur)*100, '%')\n",
        "\n"
      ]
    },
    {
      "cell_type": "code",
      "execution_count": null,
      "id": "a31db8cc",
      "metadata": {
        "id": "a31db8cc",
        "outputId": "30f6004c-9cd0-439c-975b-98edbb8f6534"
      },
      "outputs": [
        {
          "name": "stderr",
          "output_type": "stream",
          "text": [
            "c:\\users\\ahmed\\appdata\\local\\programs\\python\\python39\\lib\\site-packages\\sklearn\\linear_model\\_sag.py:328: ConvergenceWarning: The max_iter was reached which means the coef_ did not converge\n",
            "  warnings.warn(\"The max_iter was reached which means \"\n"
          ]
        }
      ],
      "source": [
        "alphas=[0.1,0.01,1]\n",
        "result=[]\n",
        "dataofex=df.drop('isFraud',axis=1)\n",
        "dataofex.drop('nameOrig',axis=1,inplace=True)\n",
        "dataofex.drop('nameDest',axis=1,inplace=True)\n",
        "dataofy=df['isFraud']\n",
        "enocding_func = OrdinalEncoder()\n",
        "dataofex[\"type\"] = enocding_func.fit_transform(dataofex[[\"type\"]])\n",
        "poly = PolynomialFeatures(degree= 2, include_bias=False)\n",
        "poly_atts = poly.fit_transform(dataofex)\n",
        "X_train, X_test, y_train, y_test = train_test_split(poly_atts, dataofy, test_size=0.4, random_state=1)\n",
        "X_val, X_test, y_val, y_test = train_test_split(X_test, y_test, test_size=0.5, random_state=1)\n",
        "polynomailmodel = LogisticRegression(penalty='l1', C=1 ,solver='saga', max_iter=2)\n",
        "polynomailmodel.fit(X_train, y_train)\n",
        "polynomialpredcitedy = polynomailmodel.predict(X_test)\n",
        "ploynomailrmse = np.sqrt(mean_squared_error(y_test, polynomialpredcitedy))\n",
        "result.append(ploynomailrmse)"
      ]
    },
    {
      "cell_type": "code",
      "execution_count": null,
      "id": "c5ce400b",
      "metadata": {
        "id": "c5ce400b",
        "outputId": "044e3b37-c8b9-496a-e369-6c18ff8e0cf6"
      },
      "outputs": [
        {
          "name": "stdout",
          "output_type": "stream",
          "text": [
            "[0.03553652418932332]\n"
          ]
        }
      ],
      "source": [
        "print(result)"
      ]
    },
    {
      "cell_type": "code",
      "execution_count": null,
      "id": "ccbd932f",
      "metadata": {
        "id": "ccbd932f"
      },
      "outputs": [],
      "source": [
        ""
      ]
    }
  ],
  "metadata": {
    "kernelspec": {
      "display_name": "Python 3",
      "language": "python",
      "name": "python3"
    },
    "language_info": {
      "codemirror_mode": {
        "name": "ipython",
        "version": 3
      },
      "file_extension": ".py",
      "mimetype": "text/x-python",
      "name": "python",
      "nbconvert_exporter": "python",
      "pygments_lexer": "ipython3",
      "version": "3.9.5"
    },
    "colab": {
      "name": "classification.ipynb",
      "provenance": []
    }
  },
  "nbformat": 4,
  "nbformat_minor": 5
}